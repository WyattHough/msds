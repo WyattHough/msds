{
 "cells": [
  {
   "attachments": {},
   "cell_type": "markdown",
   "metadata": {},
   "source": [
    "# Emotion Classifier\n",
    "\n",
    "Use data from UCI CMU Face Images Data Set\n",
    "\n",
    "Create a multiclass classifier that predicts the emotion of people based on their face expression.\n",
    "Convert data to set with labels of emotion. Train with a few different classifer types. Use CNN should produce the best results but compare with SVM\n",
    "Source :https://archive.ics.uci.edu/ml/datasets/CMU+Face+Images"
   ]
  },
  {
   "attachments": {},
   "cell_type": "markdown",
   "metadata": {},
   "source": [
    "### Clean Data"
   ]
  },
  {
   "cell_type": "code",
   "execution_count": 56,
   "metadata": {},
   "outputs": [
    {
     "name": "stdout",
     "output_type": "stream",
     "text": [
      "624\n",
      "155\n"
     ]
    }
   ],
   "source": [
    "import matplotlib.pyplot as plt\n",
    "import glob\n",
    "\n",
    "# Create list of all the filenames\n",
    "files = glob.glob('faces/*/*')\n",
    "\n",
    "X = []\n",
    "Y = []\n",
    "for filename in files:\n",
    "    # filename has form [name]_[side]_[emotion]_[eyes]_[size].pgm'\n",
    "    # Since we are predicting emotion we will extract this as our truth label\n",
    "    label = filename.split('_')[2]\n",
    "    \n",
    "    # data contains images of different size so we will extract only items of 30x32 (e.g. size = 4)\n",
    "    size, ext = filename.split('_')[-1].split('.')\n",
    "    if size == '4':\n",
    "        # do not include images that have .bad extension\n",
    "        if ext != 'bad':\n",
    "            # Convert image to a 1D array and save with label\n",
    "            X.append(plt.imread(filename).ravel())\n",
    "            Y.append(label)\n"
   ]
  },
  {
   "cell_type": "code",
   "execution_count": null,
   "metadata": {},
   "outputs": [],
   "source": []
  }
 ],
 "metadata": {
  "kernelspec": {
   "display_name": "data_visualization",
   "language": "python",
   "name": "python3"
  },
  "language_info": {
   "codemirror_mode": {
    "name": "ipython",
    "version": 3
   },
   "file_extension": ".py",
   "mimetype": "text/x-python",
   "name": "python",
   "nbconvert_exporter": "python",
   "pygments_lexer": "ipython3",
   "version": "3.10.8"
  },
  "orig_nbformat": 4,
  "vscode": {
   "interpreter": {
    "hash": "f62fe919c779e67844570aba23f9929fafd9c964d73b86a5d9ef312f0c6186ad"
   }
  }
 },
 "nbformat": 4,
 "nbformat_minor": 2
}
