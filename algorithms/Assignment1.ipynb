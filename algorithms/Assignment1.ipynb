{
 "cells": [
  {
   "cell_type": "markdown",
   "id": "83e5adf9",
   "metadata": {
    "deletable": false,
    "editable": false,
    "nbgrader": {
     "cell_type": "markdown",
     "checksum": "f0042fe6a11bab9196f45fb6aa6a74c4",
     "grade": false,
     "grade_id": "cell-70512a00f1d9c3d9",
     "locked": true,
     "schema_version": 3,
     "solution": false,
     "task": false
    }
   },
   "source": [
    "## Problem 1: Max Subarray Problem\n",
    "\n",
    "Recall the max subarray problem presented in class. We used divide and conquer method to derive a $\\Theta(n \\log(n))$ worst case time algorithm to solve it.\n",
    "\n",
    "In this assignment, we would like you to solve this problem in $\\Theta(n)$ time. I.e, your algorithm should be able to compute the result by just iterating through the array and keeping track of some quantities.\n",
    "\n",
    "Let `[a0, a1,....,ak]` be a python array (list) of size k + 1.\n",
    "Here is the idea:\n",
    "  - As we iterate index i from 0 to k (inclusive), track a quantity `minSoFar` that is the minimum of the array so far from 0 to i-1. Initialize `minSoFar` to +infinity (In python you can say `float('inf')` to get a number that represents $\\infty$).\n",
    "  - Consider the difference `a[i] - minSoFar`. Calculate the __maximum__ such difference when iterating over the entire array.\n",
    "  \n",
    "Convince yourself that this will yield the overall solution to the max subarray problem with a complexity of $\\Theta(n)$.\n",
    "\n"
   ]
  },
  {
   "cell_type": "code",
   "execution_count": 3,
   "id": "74022c11",
   "metadata": {
    "deletable": false,
    "nbgrader": {
     "cell_type": "code",
     "checksum": "91f923e2080a0dfb62b188621c733afb",
     "grade": false,
     "grade_id": "cell-432171d0e096063f",
     "locked": false,
     "schema_version": 3,
     "solution": true,
     "task": false
    }
   },
   "outputs": [],
   "source": [
    "def maxSubArray(a):\n",
    "    n = len(a)\n",
    "    if n == 1:\n",
    "        return 0\n",
    "    # your code here\n",
    "    minSoFar = float('inf')\n",
    "    maxDifference = 0\n",
    "    for i in range(n):\n",
    "        if a[i] < minSoFar:\n",
    "            minSoFar = a[i]\n",
    "        difference = a[i] - minSoFar\n",
    "        if difference > maxDifference:\n",
    "            maxDifference = difference\n",
    "    return maxDifference\n",
    "    "
   ]
  },
  {
   "cell_type": "code",
   "execution_count": 4,
   "id": "78378442",
   "metadata": {
    "deletable": false,
    "editable": false,
    "nbgrader": {
     "cell_type": "code",
     "checksum": "a9dfc5cdb9e9c303e9917a91a9f5d04d",
     "grade": true,
     "grade_id": "cell-26a0b5a307c789be",
     "locked": true,
     "points": 10,
     "schema_version": 3,
     "solution": false,
     "task": false
    }
   },
   "outputs": [
    {
     "name": "stdout",
     "output_type": "stream",
     "text": [
      "All tests passed (10 points!)\n"
     ]
    }
   ],
   "source": [
    "from random import randint\n",
    "\n",
    "assert(maxSubArray([100, -2, 5, 10, 11, -4, 15, 9, 18, -2, 21, -11]) == 25), 'Test 1 failed'\n",
    "assert(maxSubArray([-5, 1, 10, 4, 11, 4, 15, 9, 18, 0, 21, -11]) == 26), 'Test 2 failed'\n",
    "assert(maxSubArray([26, 0, 5, 18, 11, -1, 15, 9, 13, 5, 16, -11]) == 18), 'Test 3 failed'\n",
    "\n",
    "def get_random_array(n):\n",
    "    assert(n > 100)\n",
    "    lst = [randint(0, 25) for j in range(n)]\n",
    "    lst[0] = 1000\n",
    "    lst[10] = -15\n",
    "    lst[25] = 40\n",
    "    lst[n-10] = 60\n",
    "    lst[n-3]= -40\n",
    "    return lst\n",
    "assert(maxSubArray(get_random_array(50000)) == 75), 'Test on large random array 50000 failed'\n",
    "assert(maxSubArray(get_random_array(500000)) == 75), 'Test on large random array of size 500000 failed'\n",
    "print('All tests passed (10 points!)')"
   ]
  },
  {
   "cell_type": "markdown",
   "id": "d767fc45",
   "metadata": {
    "deletable": false,
    "editable": false,
    "nbgrader": {
     "cell_type": "markdown",
     "checksum": "9b253cef4606ca7cd3c8f9af59efd3c1",
     "grade": false,
     "grade_id": "cell-833bf62268cf876e",
     "locked": true,
     "schema_version": 3,
     "solution": false,
     "task": false
    }
   },
   "source": [
    "## Problem 2\n",
    "\n",
    "We studied polynomial multiplication using FFT in class. Recall the algorithm given two polynomials $a(x) = a_0 + a_1 x + \\cdots + a_{n-1} x^{n-1} $ and $b(x) = b_0 + b_1 x + \\cdots + b_{m-1} x^{m-1}$.\n",
    "\n",
    "- Pad the coefficients of $a, b$ with zero coefficients to make up two polynomials of degree $m + n - 2$ (expected size of the result).\n",
    "- Compute FFTs of $[a_0, \\ldots, a_{n-1}, 0 , \\ldots, 0 ]$ and \n",
    "$[b_0, \\ldots, b_{n-1}, 0, \\ldots, 0 ]$. \n",
    "  - Let $[A_0, \\ldots, A_{m+n-2}]$ and $[B_0, \\ldots, B_{m+n-2}]$ be the resulting FFT sequences.\n",
    "- Multiply the FFT sequences: $[ A_0 \\times B_0, \\ldots, A_{m+n-2} \\times B_{m+n-2}]$.\n",
    "- Compute the inverse FFT to obtain the polynomial $c(x) = a(x) b(x)$.\n",
    "\n",
    "\n",
    "First implement polynomial multiplication using FFT. For convenience, please use the numpy package in python which implements functions\n",
    "`numpy.fft.fft` and `numpy.fft.ifft`. The advantages include efficient computation of FFT for sizes of inputs that are not powers of two.\n",
    "\n",
    "\n",
    "### Brief Illustration of Numpy `fft` and `ifft` functions."
   ]
  },
  {
   "cell_type": "code",
   "execution_count": 1,
   "id": "8e66f7db",
   "metadata": {
    "deletable": false,
    "editable": false,
    "nbgrader": {
     "cell_type": "code",
     "checksum": "3ae540dfacf0be9779fde4aa430c8b03",
     "grade": false,
     "grade_id": "cell-1012ba617f404f74",
     "locked": true,
     "schema_version": 3,
     "solution": false,
     "task": false
    }
   },
   "outputs": [
    {
     "name": "stdout",
     "output_type": "stream",
     "text": [
      "FFT of [1, -1, 1, -1, 1, -1, 1, -1, 1, -1, 1, -1, 1, -1] is\n",
      " \t [ 0.00000000e+00+0.j -2.22044605e-16+0.j  0.00000000e+00+0.j\n",
      " -3.33066907e-16+0.j  0.00000000e+00+0.j  2.22044605e-16+0.j\n",
      "  0.00000000e+00+0.j  1.40000000e+01+0.j  0.00000000e+00+0.j\n",
      "  0.00000000e+00+0.j  0.00000000e+00+0.j  2.22044605e-16+0.j\n",
      "  0.00000000e+00+0.j  9.99200722e-16+0.j]\n",
      "After ifft: [ 1.+0.00000000e+00j -1.-6.41050524e-17j  1.-1.00867099e-16j\n",
      " -1.-4.71629255e-17j  1.-4.71629255e-17j -1.-1.00867099e-16j\n",
      "  1.-6.41050524e-17j -1.-7.04340094e-33j  1.+6.41050524e-17j\n",
      " -1.+1.00867099e-16j  1.+4.71629255e-17j -1.+4.71629255e-17j\n",
      "  1.+1.00867099e-16j -1.+6.41050524e-17j]\n",
      "Note that we can suppress the vanishingly small complex cofficients\n",
      "After converting back to float: [1.0, -1.0, 1.0, -1.0, 1.0, -1.0, 1.0, -1.0, 1.0, -1.0, 1.0, -1.0, 1.0, -1.0]\n"
     ]
    }
   ],
   "source": [
    "from numpy.fft import fft, ifft\n",
    "from numpy import real, imag\n",
    "\n",
    "#fft --> computes fft of a list or numpy array\n",
    "#ifft -> computes inverse fft of list or numpy array\n",
    "\n",
    "# Create a list\n",
    "lst0 = [1, -1, 1, -1, 1, -1, 1, -1, 1, -1, 1, -1, 1, -1]\n",
    "# Compute its fft\n",
    "fft_lst0 = fft(lst0)\n",
    "print(f'FFT of {lst0} is\\n \\t {fft_lst0}' )\n",
    "# Compute iverse fft\n",
    "ifft_lst0 = ifft(fft_lst0)\n",
    "print(f'After ifft: {ifft_lst0}' )\n",
    "# Check that all the imaginary parts are tiny in the ifft result\n",
    "# Note that they will not be zero due to floating point error\n",
    "assert(all([abs(imag(x))<= 1E-10 for x in ifft_lst0])), 'Something went wrong -- we should not have complex parts to the ifft result'\n",
    "# Extract the real parts\n",
    "print('Note that we can suppress the vanishingly small complex cofficients')\n",
    "fix_ifft_lst0 = [real(x) for x in ifft_lst0]\n",
    "print(f'After converting back to float: {fix_ifft_lst0}')"
   ]
  },
  {
   "cell_type": "markdown",
   "id": "4d9dc82e",
   "metadata": {
    "deletable": false,
    "editable": false,
    "nbgrader": {
     "cell_type": "markdown",
     "checksum": "2bd964e396c16aab6fac77035735b037",
     "grade": false,
     "grade_id": "cell-430aa45c58ae4001",
     "locked": true,
     "schema_version": 3,
     "solution": false,
     "task": false
    }
   },
   "source": [
    "Implement the `polynomial_multiply` function below."
   ]
  },
  {
   "cell_type": "code",
   "execution_count": 2,
   "id": "0d62b579",
   "metadata": {
    "deletable": false,
    "nbgrader": {
     "cell_type": "code",
     "checksum": "8365c7f9b5621c7f1850b629c523fb49",
     "grade": false,
     "grade_id": "cell-f872bfc77720304c",
     "locked": false,
     "schema_version": 3,
     "solution": true,
     "task": false
    }
   },
   "outputs": [],
   "source": [
    "from numpy.fft import fft, ifft\n",
    "from numpy import real, imag\n",
    "\n",
    "def polynomial_multiply(a_coeff_list, b_coeff_list):\n",
    "    # Return the coefficient list of the multiplication \n",
    "    # of the two polynomials \n",
    "    # Returned list must be a list of floating point numbers.\n",
    "    # Please convert list from complex to reals by using the \n",
    "    # real function in numpy.\n",
    "    # your code here\n",
    "    len_a = len(a_coeff_list)\n",
    "    len_b = len(b_coeff_list)\n",
    "    final_len = len_a+len_b-1\n",
    "    for i in range(len_a, final_len):\n",
    "        a_coeff_list.append(0)\n",
    "    for i in range(len_b, final_len):\n",
    "        b_coeff_list.append(0)\n",
    "        \n",
    "    fft_a = fft(a_coeff_list)\n",
    "    fft_b = fft(b_coeff_list)\n",
    "    \n",
    "    fft_c = []\n",
    "    for a, b in zip(fft_a, fft_b):\n",
    "        fft_c.append(a*b)\n",
    "        \n",
    "    c_lst_ifft = ifft(fft_c)\n",
    "    fix_c_lst = [real(x) for x in c_lst_ifft]\n",
    "    \n",
    "    return fix_c_lst\n",
    "    "
   ]
  },
  {
   "cell_type": "code",
   "execution_count": 7,
   "id": "9832973f",
   "metadata": {
    "deletable": false,
    "editable": false,
    "nbgrader": {
     "cell_type": "code",
     "checksum": "713fa718b1dc423e5cb2dcadc04be607",
     "grade": true,
     "grade_id": "cell-b0b6276bb428e63c",
     "locked": true,
     "points": 10,
     "schema_version": 3,
     "solution": false,
     "task": false
    }
   },
   "outputs": [
    {
     "name": "stdout",
     "output_type": "stream",
     "text": [
      "-------\n",
      "Test # 1\n",
      "c=[2.0, 1.0, 7.401486830834377e-17, -1.0, 1.0, -0.9999999999999998]\n",
      "Your code found: [2.0, 1.0, 7.401486830834377e-17, -1.0, 1.0, -0.9999999999999998]\n",
      "Expected: [2, 1, 0, -1, 1, -1]\n",
      "Passed!\n",
      "-------\n",
      "Test # 2\n",
      "c=[2.9605947323337506e-16, 0.0, -0.9999999999999997, 1.0, 7.401486830834377e-17, -2.999999999999999, 1.9999999999999993, -1.9999999999999996, 0.9999999999999997, 4.999999999999999, 2.9605947323337506e-16, 3.0]\n",
      "Your code found: [2.9605947323337506e-16, 0.0, -0.9999999999999997, 1.0, 7.401486830834377e-17, -2.999999999999999, 1.9999999999999993, -1.9999999999999996, 0.9999999999999997, 4.999999999999999, 2.9605947323337506e-16, 3.0]\n",
      "Expected: [0, 0, -1, 1, 0, -3, 2, -2, 1, 5, 0, 3]\n",
      "Passed!\n",
      "-------\n",
      "Test # 3\n",
      "c=[2.000000000000001, -1.4210854715202005e-15, 4.440892098500626e-16, -3.9999999999999996, -1.0000000000000009, 1.4210854715202005e-15, -0.9999999999999999, 4.000000000000001, 1.0000000000000004, 1.9999999999999987, 1.6320278461989802e-15, -25.0, -7.105427357601002e-16, -0.9999999999999984, -1.1213252548714083e-15, 12.0, -7.105427357601002e-16, 11.0, 1.7763568394002506e-16, -11.000000000000004]\n",
      "Your code found: [2.000000000000001, -1.4210854715202005e-15, 4.440892098500626e-16, -3.9999999999999996, -1.0000000000000009, 1.4210854715202005e-15, -0.9999999999999999, 4.000000000000001, 1.0000000000000004, 1.9999999999999987, 1.6320278461989802e-15, -25.0, -7.105427357601002e-16, -0.9999999999999984, -1.1213252548714083e-15, 12.0, -7.105427357601002e-16, 11.0, 1.7763568394002506e-16, -11.000000000000004]\n",
      "Expected: [2, 0, 0, -4, -1, 0, -1, 4, 1, 2, 0, -25, 0, -1, 0, 12, 0, 11, 0, -11]\n",
      "Passed!\n",
      "All tests passed (10 points!)\n"
     ]
    }
   ],
   "source": [
    "def check_poly(lst1, lst2):\n",
    "    print(f'Your code found: {lst1}')\n",
    "    print(f'Expected: {lst2}')\n",
    "    assert(len(lst1) == len(lst2)), 'Lists have different lengths'\n",
    "    for (k,j) in zip(lst1, lst2):\n",
    "        assert abs(k-j)<= 1E-05, 'Polynomials do not match'\n",
    "    print('Passed!')\n",
    "print('-------') \n",
    "print('Test # 1')\n",
    "# multiply (1 + x - x^3) with (2 - x + x^2)\n",
    "a = [1, 1, 0, -1]\n",
    "b = [2, -1, 1]\n",
    "c = polynomial_multiply(a,b)\n",
    "assert(len(c) == 6)\n",
    "print(f'c={c}')\n",
    "check_poly(c, [2,1,0,-1,1,-1])\n",
    "print('-------')\n",
    "print('Test # 2')\n",
    "# multiply 1 - x + x^2 + 2 x^3 + 3 x^5 with \n",
    "#            -x^2 + x^4 + x^6\n",
    "a = [1, -1, 1, 2, 0, 3]\n",
    "b = [0, 0, -1, 0, 1, 0, 1]\n",
    "c = polynomial_multiply(a,b)\n",
    "assert(len(c) == 12)\n",
    "print(f'c={c}')\n",
    "check_poly(c, [0, 0, -1, 1, 0, -3, 2, -2, 1, 5, 0, 3])\n",
    "print('-------')\n",
    "print('Test # 3')\n",
    "# multiply 1 - 2x^3 + x^7 - 11 x^11\n",
    "# with     2 - x^4 - x^6 + x^8\n",
    "a = [1, 0, 0, -2, 0, 0, 0, 1, 0, 0, 0, -11]\n",
    "b = [2, 0, 0, 0, -1, 0, -1, 0, 1]\n",
    "c = polynomial_multiply(a, b)\n",
    "assert(len(c) == 20)\n",
    "print(f'c={c}')\n",
    "check_poly(c, [2, 0, 0, -4, -1, 0, -1, 4, 1, 2, 0, -25, 0, -1, 0, 12, 0, 11, 0, -11])\n",
    "print('All tests passed (10 points!)')\n"
   ]
  },
  {
   "cell_type": "markdown",
   "id": "511ea442",
   "metadata": {
    "deletable": false,
    "editable": false,
    "nbgrader": {
     "cell_type": "markdown",
     "checksum": "862e9cd1a9d033ce93f9e2ffbc234925",
     "grade": false,
     "grade_id": "cell-ae6a2e454c847ff2",
     "locked": true,
     "schema_version": 3,
     "solution": false,
     "task": false
    }
   },
   "source": [
    "## Problem 3 \n",
    "\n",
    "We are given three subsets of numbers $A, B, C\\subseteq \\{ 0, \\ldots, n\\}$. Design an algorithm that runs in worst case time  $\\Theta(n \\log(n))$ that checks if there exists numbers \n",
    "$n_1, n_2$ in $A,B$, respectively and number $n_3$ in $C$ such that\n",
    "$ n_1 + n_2 = n_3$. \n",
    "\n",
    "**Hint:** Convert the set $A = \\{ n_0, n_1, \\ldots, n_k\\}$ into the polynomial $p_A(x):\\ x^{n_0} + x^{n_1} + \\cdots + x^{n_k}$. Suppose $p_A(x), p_B(x)$ are polynomials obtained from the sets $A, B$ respectively, interpret what the product  $p_A(x) \\times p_B(x)$ signifies. Use this to complete an algorithm for the problem at hand that runs in $n \\log(n)$ time. \n"
   ]
  },
  {
   "cell_type": "code",
   "execution_count": 22,
   "id": "24c227bd",
   "metadata": {
    "deletable": false,
    "nbgrader": {
     "cell_type": "code",
     "checksum": "e5a23b3679d45e4d683c514ea40be32e",
     "grade": false,
     "grade_id": "cell-4c63c80760358886",
     "locked": false,
     "schema_version": 3,
     "solution": true,
     "task": false
    }
   },
   "outputs": [],
   "source": [
    "# inputs sets a, b, c\n",
    "# return True if there exist n1 in a, n2 in B such that n1+n2 in C\n",
    "# return False otherwise\n",
    "# number n which signifies the maximum number in a, b, c\n",
    "# here is a useful reference to set data structure in python\n",
    "# https://docs.python.org/3/tutorial/datastructures.html#sets\n",
    "def check_sum_exists(a, b, c, n):\n",
    "    a_coeffs = [0]*n\n",
    "    b_coeffs = [0]*n \n",
    "    # convert sets a, b into polynomials as provided in the hint\n",
    "    # a_coeffs and b_coeffs should contain the result\n",
    "    # your code here\n",
    "    for i, j in zip(a, b):\n",
    "        a_coeffs[i-1] = 1\n",
    "        b_coeffs[j-1] = 1\n",
    "    \n",
    "    # multiply them together\n",
    "    print (\"a_coeffs . \", a_coeffs)\n",
    "    print (\"b_coeffs . \", b_coeffs)\n",
    "    c_coeffs = polynomial_multiply(a_coeffs, b_coeffs)\n",
    "    print(\"Co-efficients of the testcase are\")\n",
    "    coeffs_copy = []\n",
    "    for num in c_coeffs:\n",
    "        if(abs(num-0) < abs(num-1)):\n",
    "            coeffs_copy.append(0)\n",
    "        elif(abs(num-1) < abs(num-2)):\n",
    "            coeffs_copy.append(1)\n",
    "        else:\n",
    "            coeffs_copy.append(2)\n",
    "    print(coeffs_copy)\n",
    "    # use the result to solve the problem at hand\n",
    "    # your code here\n",
    "    for i in c:\n",
    "        if coeffs_copy[i-1] == 2:\n",
    "            ret = True\n",
    "        else:\n",
    "            ret = False\n",
    "    \n",
    "    # return True/False\n",
    "    return ret"
   ]
  },
  {
   "cell_type": "code",
   "execution_count": 23,
   "id": "55684649",
   "metadata": {
    "deletable": false,
    "editable": false,
    "nbgrader": {
     "cell_type": "code",
     "checksum": "2e682d78aff8a3f19d2cf26773e7f933",
     "grade": true,
     "grade_id": "cell-aa364989a7c3f6b4",
     "locked": true,
     "points": 15,
     "schema_version": 3,
     "solution": false,
     "task": false
    }
   },
   "outputs": [
    {
     "name": "stdout",
     "output_type": "stream",
     "text": [
      "-- Test 1 --\n",
      "a_coeffs .  [1, 1, 0, 0, 0, 0, 0, 0, 0, 1, 1, 0]\n",
      "b_coeffs .  [0, 1, 0, 0, 1, 0, 0, 1, 0, 1, 0, 0]\n",
      "Co-efficients of the testcase are\n",
      "[0, 1, 1, 0, 1, 1, 0, 1, 1, 1, 2, 1, 0, 1, 1, 0, 1, 1, 1, 1, 0, 0, 0]\n",
      "Passed\n",
      "-- Test 2 --\n",
      "a_coeffs .  [1, 1, 0, 0, 0, 0, 0, 0, 0, 1, 1, 0]\n",
      "b_coeffs .  [0, 1, 0, 0, 1, 0, 0, 1, 0, 1, 0, 0]\n",
      "Co-efficients of the testcase are\n",
      "[0, 1, 1, 0, 1, 1, 0, 1, 1, 1, 2, 1, 0, 1, 1, 0, 1, 1, 1, 1, 0, 0, 0]\n",
      "Passed\n",
      "-- Test 3 --\n",
      "a_coeffs .  [1, 0, 0, 1, 1, 0, 1, 0, 0, 0, 1, 0, 1, 1, 1, 0, 1, 0, 1, 0, 0, 1, 1, 1, 0, 0, 0, 1, 0, 0, 0, 0, 0, 1, 1, 0, 1, 0, 1, 0, 0, 1, 0, 1, 0, 0, 0, 0, 0, 0]\n",
      "b_coeffs .  [1, 0, 0, 1, 0, 0, 0, 0, 1, 1, 1, 1, 0, 0, 1, 0, 0, 1, 0, 1, 0, 0, 0, 0, 1, 0, 0, 0, 0, 0, 1, 0, 0, 1, 0, 1, 0, 1, 0, 1, 0, 0, 1, 1, 0, 0, 1, 0, 1, 1]\n",
      "Co-efficients of the testcase are\n",
      "[1, 0, 0, 2, 1, 0, 2, 1, 1, 2, 2, 2, 2, 2, 2, 2, 2, 2, 2, 2, 2, 2, 2, 2, 2, 2, 2, 2, 2, 2, 2, 2, 2, 2, 2, 2, 2, 2, 2, 2, 2, 2, 2, 2, 2, 2, 2, 2, 2, 2, 2, 2, 2, 2, 2, 2, 2, 2, 2, 2, 2, 2, 2, 2, 2, 2, 2, 2, 2, 2, 2, 2, 2, 2, 1, 2, 2, 2, 2, 2, 2, 2, 2, 2, 2, 2, 2, 2, 0, 2, 1, 1, 1, 0, 0, 0, 0, 0, 0]\n",
      "-- Test 4 --\n",
      "a_coeffs .  [0, 1, 0, 0, 0, 0, 0, 0, 0, 0, 0, 0, 0, 0, 0, 0, 0, 0, 0, 0, 0, 0, 0, 0, 0, 0, 1, 0, 0, 0, 0, 0, 0, 0, 0, 0, 0, 0, 0, 1, 0, 0, 0, 0, 0, 0, 0, 0, 0, 0, 0, 0, 0, 0, 0, 0, 0, 0, 0, 0, 0, 0, 0, 0, 0, 0, 0, 0, 0, 0, 0, 0, 0, 0, 0, 0, 1, 0, 1, 0, 0, 0, 0, 0, 0, 0, 1, 1, 1, 0, 0, 0, 0, 0, 0, 0, 0, 1, 1, 0]\n",
      "b_coeffs .  [0, 0, 0, 0, 0, 0, 0, 0, 0, 0, 0, 1, 0, 0, 0, 0, 0, 0, 0, 0, 0, 0, 0, 0, 0, 0, 0, 0, 0, 0, 0, 0, 0, 0, 1, 0, 0, 0, 0, 1, 0, 0, 0, 0, 1, 0, 0, 0, 0, 0, 0, 0, 0, 0, 0, 0, 0, 0, 0, 1, 0, 0, 0, 1, 0, 1, 0, 0, 1, 1, 0, 0, 0, 0, 0, 1, 0, 0, 0, 0, 0, 0, 0, 0, 0, 0, 0, 0, 0, 0, 0, 0, 0, 0, 0, 0, 0, 0, 0, 0]\n",
      "Co-efficients of the testcase are\n",
      "[0, 0, 0, 0, 0, 0, 0, 0, 0, 0, 0, 0, 1, 0, 0, 0, 0, 0, 0, 0, 0, 0, 0, 0, 0, 0, 0, 0, 0, 0, 0, 0, 0, 0, 0, 1, 0, 1, 0, 0, 1, 0, 0, 0, 0, 1, 0, 0, 0, 0, 1, 0, 0, 0, 0, 0, 0, 0, 0, 0, 2, 0, 0, 0, 1, 1, 1, 0, 0, 1, 2, 0, 0, 1, 0, 0, 1, 0, 1, 0, 0, 0, 0, 1, 0, 1, 0, 1, 0, 2, 0, 1, 0, 0, 1, 1, 0, 1, 2, 1, 0, 1, 1, 0, 1, 0, 0, 1, 2, 1, 1, 0, 1, 0, 1, 1, 0, 1, 0, 0, 2, 1, 2, 0, 0, 1, 1, 1, 0, 0, 1, 2, 2, 0, 0, 1, 1, 2, 0, 1, 0, 2, 1, 1, 1, 2, 2, 2, 0, 1, 1, 2, 1, 2, 1, 2, 2, 2, 0, 0, 1, 2, 2, 2, 0, 1, 2, 1, 0, 0, 0, 0, 1, 1, 0, 0, 0, 0, 0, 0, 0, 0, 0, 0, 0, 0, 0, 0, 0, 0, 0, 0, 0, 0, 0, 0, 0, 0, 0]\n",
      "All Tests Passed (15 points)!\n"
     ]
    }
   ],
   "source": [
    "print('-- Test 1 --')\n",
    "a = set([1, 2, 10, 11])\n",
    "b = set([2, 5, 8, 10])\n",
    "c = set([1, 2, 5,  8])\n",
    "assert not check_sum_exists(a, b, c, 12), f'Failed Test 1: your code returned true when the expected answer is false'\n",
    "print('Passed')\n",
    "print('-- Test 2 --')\n",
    "a = set([1, 2, 10, 11])\n",
    "b = set([2, 5, 8, 10])\n",
    "c = set([1, 2, 5,  8, 11])\n",
    "assert check_sum_exists(a, b, c, 12), f'Failed Test 2: your code returns false but note that 1 in a + 10 in b = 11 in c '\n",
    "print('Passed')\n",
    "\n",
    "print('-- Test 3 --')\n",
    "a={1, 4, 5, 7, 11, 13, 14, 15, 17, 19, 22, 23, 24, 28, 34, 35, 37, 39, 42, 44}\n",
    "b={0, 1, 4, 9, 10, 11, 12, 15, 18, 20, 25, 31, 34, 36, 38, 40, 43, 44, 47, 49}\n",
    "c={3, 4, 5, 7, 8, 10, 19, 20, 21, 24, 31, 35, 36, 37, 38, 39, 42, 44, 46, 49}\n",
    "assert check_sum_exists(a, b, c, 50), f'Failed Test 3: your code returns False whereas the correct answer is true eg., 4 + 0 = 4'\n",
    "\n",
    "print('-- Test 4 --')\n",
    "\n",
    "a={98, 2, 99, 40, 77, 79, 87, 88, 89, 27}\n",
    "b={64, 66, 35, 69, 70, 40, 76, 45, 12, 60}\n",
    "c={36, 70, 10, 44, 15, 16, 83, 20, 84, 55}\n",
    "assert not check_sum_exists(a, b, c, 100), f'Failed Test 4: your code returns True whereas the correct answer is False'\n",
    "\n",
    "print('All Tests Passed (15 points)!')"
   ]
  },
  {
   "cell_type": "markdown",
   "id": "e6b55986",
   "metadata": {
    "deletable": false,
    "editable": false,
    "nbgrader": {
     "cell_type": "markdown",
     "checksum": "a6dadd1a9dce8a6f1ae1f4a76a06c3f8",
     "grade": false,
     "grade_id": "cell-518241fe696a4bd7",
     "locked": true,
     "schema_version": 3,
     "solution": false,
     "task": false
    }
   },
   "source": [
    "## Problem 4\n",
    "\n",
    "We have given a file called `natural_gas_futures_weekly_all.csv` which is weekly data for natural gas futures from 8/2000 to 5/2021.\n",
    "\n",
    "For your convenience, the code below opens the CSV file and for each week. Note that as a data scientist you should familiarize yourself with libraries such as Pandas. Currently, we will keep things simple and process the data using the csv package in python.\n",
    "\n",
    "The code below will create a list of weekly prices in the python variable `weekly_prices`."
   ]
  },
  {
   "cell_type": "code",
   "execution_count": 1,
   "id": "cbc6ed81",
   "metadata": {
    "deletable": false,
    "editable": false,
    "nbgrader": {
     "cell_type": "code",
     "checksum": "db5f18e8c3596304bbbd1ce9b43b3183",
     "grade": false,
     "grade_id": "cell-5b43b70c09cd4870",
     "locked": true,
     "schema_version": 3,
     "solution": false,
     "task": false
    }
   },
   "outputs": [
    {
     "data": {
      "text/plain": [
       "Text(0, 0.5, 'Crude Oil Future Price')"
      ]
     },
     "execution_count": 1,
     "metadata": {},
     "output_type": "execute_result"
    },
    {
     "data": {
      "image/png": "[encoded data removed]",
      "text/plain": [
       "<Figure size 432x288 with 1 Axes>"
      ]
     },
     "metadata": {
      "needs_background": "light"
     },
     "output_type": "display_data"
    }
   ],
   "source": [
    "import csv\n",
    "from matplotlib import pyplot as plt\n",
    "\n",
    "file = open('natural_gas_futures_weekly_all.csv','r')\n",
    "csv_handle = csv.DictReader(file)\n",
    "\n",
    "weekly_prices = []\n",
    "dates = []\n",
    "\n",
    "for rows in csv_handle:\n",
    "    dates.append(rows['Date'])\n",
    "    weekly_prices.append(0.5 * (float(rows['High']) + float(rows['Low'])) )\n",
    "file.close()\n",
    "\n",
    "plt.plot(range(len(weekly_prices)), weekly_prices, '-b')\n",
    "plt.xlabel('Week #')\n",
    "plt.ylabel('Crude Oil Future Price')"
   ]
  },
  {
   "cell_type": "markdown",
   "id": "a8c4074b",
   "metadata": {
    "deletable": false,
    "editable": false,
    "nbgrader": {
     "cell_type": "markdown",
     "checksum": "7e324ded4fb0b7156d1a8923a890cb69",
     "grade": false,
     "grade_id": "cell-bfa52ec47a9f05f3",
     "locked": true,
     "schema_version": 3,
     "solution": false,
     "task": false
    }
   },
   "source": [
    "Note that the rate at which the data is provided is 1 data item per week.\n",
    "The data ranges over a period of 1081 weeks (~ 20 years). \n",
    "\n",
    "First we compute the fast fourier transform of the data using `numpy.fft.fft` function. Note that length of fft is also 1081.\n",
    "Let the fft be stored in list `fft_data`.\n",
    "\n",
    "Second, create a list called frequencies that has the frequency corresponding to each element in the `fft_data`. Remember that the data's time period is 1 week. We will represent all frequencies in the unit $\\text{week}^{-1}$.\n",
    "\n",
    "Using a combination of the `numpy.fft.fft` and `numpy.fft.ifft` functions, please extract the low frequency components of the signal that correspond to frequencies in the range `[0, 1/52 weeks]`, `[1/52 weeks, 1/13 weeks]` and the high frequency terms greater than or equal to  `1/13` weeks. \n",
    "\n",
    "The resulting lists should be called : `upto_1_year`, `one_year_to_1_quarter` and `less_than_1_quarter` respectively."
   ]
  },
  {
   "cell_type": "code",
   "execution_count": 11,
   "id": "9b8554a0",
   "metadata": {
    "deletable": false,
    "nbgrader": {
     "cell_type": "code",
     "checksum": "4bffd116c915e36715e4b1a4554e55f8",
     "grade": false,
     "grade_id": "cell-695879a98590acbf",
     "locked": false,
     "schema_version": 3,
     "solution": true,
     "task": false
    }
   },
   "outputs": [
    {
     "name": "stdout",
     "output_type": "stream",
     "text": [
      "[ 0.          0.00092507  0.00185014 ... -0.00277521 -0.00185014\n",
      " -0.00092507]\n"
     ]
    }
   ],
   "source": [
    "from numpy.fft import fft, ifft, fftfreq\n",
    "from numpy import real,imag\n",
    "\n",
    "# here we have computed the fft of the weekly_prices\n",
    "fft_data =  fft(weekly_prices)\n",
    "N = len(fft_data)\n",
    "assert(N == len(weekly_prices))\n",
    "# TODO: first fill in the frequencies call this list \n",
    "# fft_frequencies -- it must have length N\n",
    "# it must store the frequencies of each element in the fft_data\n",
    "# ensure that the frequencies of the second half are negative.\n",
    "# your code here\n",
    "fft_frequencies = []\n",
    "for i in range(N):\n",
    "    if i < N/2:\n",
    "        fft_frequencies.append(real(fft_data[i])**2 + imag(fft_data[i])**2)\n",
    "    else:\n",
    "        fft_frequencies.append((real(fft_data[i])**2 + imag(fft_data[i])**2)*-1)\n",
    "fft_frequencies = fftfreq(N)\n",
    "\n",
    "\n",
    "# This function will be useful for you. Please go through the code.\n",
    "\n",
    "def select_all_items_in_freq_range(lo, hi):\n",
    "    # TODO: go through the fft_data and select only those frequencies in the range lo/hi\n",
    "    new_fft_data = [] # make sure we have the 0 frequency component\n",
    "    for (fft_val, fft_freq) in zip(fft_data, fft_frequencies):\n",
    "        if lo <= fft_freq and fft_freq < hi:\n",
    "            new_fft_data.append(fft_val)\n",
    "        elif -hi < fft_freq and fft_freq <= -lo:\n",
    "            new_fft_data.append(fft_val)\n",
    "        else:\n",
    "            new_fft_data.append(0.0)\n",
    "    filtered_data = ifft(new_fft_data)\n",
    "    assert all( abs(imag(x)) <= 1E-10 for x in filtered_data)\n",
    "    return [real(x) for x in filtered_data]\n",
    "\n",
    "upto_1_year = [] # All signal components with frequency < 1/52\n",
    "one_year_to_1_quarter = [] # All signal components with frequency between 1/52 (inclusive) and 1/13 weeks (not inclusive)\n",
    "less_than_1_quarter = [] # All signal components with frequency >= 1/13 \n",
    "\n",
    "# TODO: Redefine the three lists using the select_all_items function\n",
    "# your code here\n",
    "upto_1_year = select_all_items_in_freq_range(0, 1/52)\n",
    "one_year_to_1_quarter = select_all_items_in_freq_range(1/52, 1/13)\n",
    "less_than_1_quarter = select_all_items_in_freq_range(1/13, float('inf'))\n",
    "\n",
    "print(fft_frequencies)\n"
   ]
  },
  {
   "cell_type": "code",
   "execution_count": 12,
   "id": "f2321595",
   "metadata": {
    "deletable": false,
    "editable": false,
    "nbgrader": {
     "cell_type": "code",
     "checksum": "90703a56a1f5185432222f2af1e91a0a",
     "grade": true,
     "grade_id": "cell-5f574a54db297ed2",
     "locked": true,
     "points": 10,
     "schema_version": 3,
     "solution": false,
     "task": false
    }
   },
   "outputs": [
    {
     "name": "stdout",
     "output_type": "stream",
     "text": [
      "All tests OK -- 10 points!!\n"
     ]
    },
    {
     "data": {
      "image/png": "[encoded data removed]",
      "text/plain": [
       "<Figure size 432x288 with 1 Axes>"
      ]
     },
     "metadata": {
      "needs_background": "light"
     },
     "output_type": "display_data"
    },
    {
     "data": {
      "image/png": "[encoded data removed]",
      "text/plain": [
       "<Figure size 432x288 with 1 Axes>"
      ]
     },
     "metadata": {
      "needs_background": "light"
     },
     "output_type": "display_data"
    },
    {
     "data": {
      "image/png": "[encoded data removed]",
      "text/plain": [
       "<Figure size 432x288 with 1 Axes>"
      ]
     },
     "metadata": {
      "needs_background": "light"
     },
     "output_type": "display_data"
    },
    {
     "data": {
      "image/png": "[encoded data removed]",
      "text/plain": [
       "<Figure size 432x288 with 1 Axes>"
      ]
     },
     "metadata": {
      "needs_background": "light"
     },
     "output_type": "display_data"
    }
   ],
   "source": [
    "from matplotlib import pyplot as plt\n",
    "plt.plot(upto_1_year,'-b',lw=2)\n",
    "plt.plot(weekly_prices,'--r',lw=0.2)\n",
    "plt.xlabel('Week #')\n",
    "plt.ylabel('Price')\n",
    "plt.title('Frequency components < once/year')\n",
    "plt.figure()\n",
    "plt.plot(one_year_to_1_quarter,'-b',lw=2)\n",
    "plt.plot(weekly_prices,'--r',lw=0.2)\n",
    "plt.title('Frequency components between once/year and once/quarter')\n",
    "plt.xlabel('Week #')\n",
    "plt.ylabel('Price')\n",
    "plt.figure()\n",
    "plt.plot(less_than_1_quarter,'-b',lw=2)\n",
    "plt.plot(weekly_prices,'--r',lw=0.2)\n",
    "plt.title('Frequency components >  once/quarter')\n",
    "plt.xlabel('Week #')\n",
    "plt.ylabel('Price')\n",
    "\n",
    "plt.figure()\n",
    "plt.plot([(v1 + v2 + v3) for (v1, v2, v3) in zip(upto_1_year,one_year_to_1_quarter,less_than_1_quarter)],'-b',lw=2)\n",
    "plt.plot(weekly_prices,'--r',lw=0.2)\n",
    "plt.title('Sum of all the components')\n",
    "plt.xlabel('Week #')\n",
    "plt.ylabel('Prices')\n",
    "\n",
    "N = len(weekly_prices)\n",
    "assert(len(fft_frequencies) == len(weekly_prices))\n",
    "assert(fft_frequencies[0] == 0.0)\n",
    "assert(abs(fft_frequencies[N//2] - 0.5 ) <= 0.05), f'fft frequncies incorrect: {fft_frequencies[N//2]} does not equal 0.5'\n",
    "assert(abs(fft_frequencies[N//4] - 0.25 ) <= 0.05), f'fft frequncies incorrect:  {fft_frequencies[N//4]} does not equal 0.25'\n",
    "assert(abs(fft_frequencies[3*N//4] + 0.25 ) <= 0.05), f'fft frequncies incorrect:  {fft_frequencies[3*N//4]} does not equal -0.25'\n",
    "assert(abs(fft_frequencies[1] - 1/N ) <= 0.05), f'fft frequncies incorrect:  {fft_frequencies[1]} does not equal {1/N}'\n",
    "assert(abs(fft_frequencies[N-1] + 1/N ) <= 0.05), f'fft frequncies incorrect:  {fft_frequencies[N-1]} does not equal {-1/N}'\n",
    "\n",
    "for (v1, v2, v3, v4) in zip(weekly_prices, upto_1_year,one_year_to_1_quarter,less_than_1_quarter ):\n",
    "    assert ( abs(v1 - (v2 + v3+v4)) <= 0.01), 'The components are not adding up -- there is a mistake in the way you split your original signal into various components'\n",
    "print('All tests OK -- 10 points!!')"
   ]
  },
  {
   "cell_type": "markdown",
   "id": "8f6b180e",
   "metadata": {
    "deletable": false,
    "editable": false,
    "nbgrader": {
     "cell_type": "markdown",
     "checksum": "1be24ab9a555482fb450af83f911f0ea",
     "grade": false,
     "grade_id": "cell-38bb0fe9493eb013",
     "locked": true,
     "schema_version": 3,
     "solution": false,
     "task": false
    }
   },
   "source": [
    "# That's all Folks!"
   ]
  }
 ],
 "metadata": {
  "kernelspec": {
   "display_name": "Python 3 (ipykernel)",
   "language": "python",
   "name": "python3"
  },
  "language_info": {
   "codemirror_mode": {
    "name": "ipython",
    "version": 3
   },
   "file_extension": ".py",
   "mimetype": "text/x-python",
   "name": "python",
   "nbconvert_exporter": "python",
   "pygments_lexer": "ipython3",
   "version": "3.8.12"
  }
 },
 "nbformat": 4,
 "nbformat_minor": 5
}
