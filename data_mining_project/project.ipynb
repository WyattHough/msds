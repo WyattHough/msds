{
 "cells": [
  {
   "cell_type": "code",
   "execution_count": 13,
   "metadata": {},
   "outputs": [],
   "source": [
    "from keras.models import Sequential\n",
    "from keras.layers import Conv2D, MaxPooling2D, Dense, Flatten, Dropout\n",
    "# import metric\n",
    "from keras.metrics import categorical_crossentropy\n",
    "# optimization method \n",
    "#from keras.optimizers import SGD\n",
    "from keras.optimizers.legacy import SGD"
   ]
  },
  {
   "cell_type": "code",
   "execution_count": 16,
   "metadata": {},
   "outputs": [],
   "source": [
    "def Alexnet():\n",
    "    # Initialize the model\n",
    "    model = Sequential()\n",
    "\n",
    "    # layer 1: convolutional layer + max-pooling layer\n",
    "    model.add(Conv2D(filters = 96, kernel_size = (11,11), strides= 4, padding = 'valid', activation='relu', input_shape = (150,150,3)))\n",
    "    model.add(MaxPooling2D(pool_size = (3,3), strides = 2))\n",
    "\n",
    "    # layer 2: convolutional layer + max-pooling layer \n",
    "    model.add(Conv2D(filters = 256, kernel_size = (5,5), padding = 'same', activation = 'relu'))\n",
    "    model.add(MaxPooling2D(pool_size = (3,3), strides = 2))\n",
    "\n",
    "    # layers 3-5: three convolutional layers + 1 max-pooling layer\n",
    "    model.add(Conv2D(filters = 384, kernel_size = (3,3), padding = 'same', activation = 'relu'))\n",
    "    model.add(Conv2D(filters = 384, kernel_size = (3,3), padding = 'same', activation = 'relu'))\n",
    "    model.add(Conv2D(filters = 256, kernel_size = (3,3), padding = 'same', activation = 'relu'))\n",
    "    model.add(MaxPooling2D(pool_size = (3,3), strides = 2))\n",
    "\n",
    "    # layers 6 - 8: two fully connected hidden layers and one fully connected output layer\n",
    "    model.add(Flatten())\n",
    "    model.add(Dense(4096, activation = 'relu'))\n",
    "    model.add(Dropout(0.5))\n",
    "    model.add(Dense(4096, activation = 'relu'))\n",
    "    model.add(Dropout(0.5))\n",
    "    model.add(Dense(1000, activation = 'softmax'))\n",
    "\n",
    "    # compile the model with a loss funciton, a metric and and optimizer method for estimating the loss function\n",
    "    opt = SGD(lr = 0.1)\n",
    "    model.compile(loss = categorical_crossentropy,\n",
    "                optimizer = opt,\n",
    "                metrics = ['accuracy'])\n",
    "\n",
    "    return model"
   ]
  },
  {
   "cell_type": "code",
   "execution_count": 17,
   "metadata": {},
   "outputs": [
    {
     "name": "stdout",
     "output_type": "stream",
     "text": [
      "Model: \"sequential_4\"\n",
      "_________________________________________________________________\n",
      " Layer (type)                Output Shape              Param #   \n",
      "=================================================================\n",
      " conv2d_20 (Conv2D)          (None, 35, 35, 96)        34944     \n",
      "                                                                 \n",
      " max_pooling2d_12 (MaxPooli  (None, 17, 17, 96)        0         \n",
      " ng2D)                                                           \n",
      "                                                                 \n",
      " conv2d_21 (Conv2D)          (None, 17, 17, 256)       614656    \n",
      "                                                                 \n",
      " max_pooling2d_13 (MaxPooli  (None, 8, 8, 256)         0         \n",
      " ng2D)                                                           \n",
      "                                                                 \n",
      " conv2d_22 (Conv2D)          (None, 8, 8, 384)         885120    \n",
      "                                                                 \n",
      " conv2d_23 (Conv2D)          (None, 8, 8, 384)         1327488   \n",
      "                                                                 \n",
      " conv2d_24 (Conv2D)          (None, 8, 8, 256)         884992    \n",
      "                                                                 \n",
      " max_pooling2d_14 (MaxPooli  (None, 3, 3, 256)         0         \n",
      " ng2D)                                                           \n",
      "                                                                 \n",
      " flatten_4 (Flatten)         (None, 2304)              0         \n",
      "                                                                 \n",
      " dense_12 (Dense)            (None, 4096)              9441280   \n",
      "                                                                 \n",
      " dropout_8 (Dropout)         (None, 4096)              0         \n",
      "                                                                 \n",
      " dense_13 (Dense)            (None, 4096)              16781312  \n",
      "                                                                 \n",
      " dropout_9 (Dropout)         (None, 4096)              0         \n",
      "                                                                 \n",
      " dense_14 (Dense)            (None, 1000)              4097000   \n",
      "                                                                 \n",
      "=================================================================\n",
      "Total params: 34066792 (129.95 MB)\n",
      "Trainable params: 34066792 (129.95 MB)\n",
      "Non-trainable params: 0 (0.00 Byte)\n",
      "_________________________________________________________________\n"
     ]
    }
   ],
   "source": [
    "Alexnet_model = Alexnet()\n",
    "Alexnet_model.summary()"
   ]
  },
  {
   "cell_type": "markdown",
   "metadata": {},
   "source": []
  }
 ],
 "metadata": {
  "kernelspec": {
   "display_name": "data_mining",
   "language": "python",
   "name": "python3"
  },
  "language_info": {
   "codemirror_mode": {
    "name": "ipython",
    "version": 3
   },
   "file_extension": ".py",
   "mimetype": "text/x-python",
   "name": "python",
   "nbconvert_exporter": "python",
   "pygments_lexer": "ipython3",
   "version": "3.11.5"
  }
 },
 "nbformat": 4,
 "nbformat_minor": 2
}
